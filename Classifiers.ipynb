{
 "cells": [
  {
   "cell_type": "code",
   "execution_count": 1,
   "metadata": {},
   "outputs": [],
   "source": [
    "import numpy as np\n",
    "import pandas as pd\n",
    "import re\n",
    "import string\n",
    "from nltk.corpus import stopwords\n",
    "from nltk.tokenize import word_tokenize"
   ]
  },
  {
   "cell_type": "code",
   "execution_count": 2,
   "metadata": {},
   "outputs": [],
   "source": [
    "data = pd.read_csv('Final_Dataset.csv')"
   ]
  },
  {
   "cell_type": "code",
   "execution_count": 3,
   "metadata": {},
   "outputs": [],
   "source": [
    "data.reset_index(drop=True, inplace=True)"
   ]
  },
  {
   "cell_type": "code",
   "execution_count": 4,
   "metadata": {},
   "outputs": [],
   "source": [
    "#removing unncessary first column\n",
    "data = data.drop(['Unnamed: 0'], axis = 1)"
   ]
  },
  {
   "cell_type": "code",
   "execution_count": 5,
   "metadata": {},
   "outputs": [
    {
     "data": {
      "text/plain": [
       "0"
      ]
     },
     "execution_count": 5,
     "metadata": {},
     "output_type": "execute_result"
    }
   ],
   "source": [
    "#checking if there is any duplicate poem in the dataset\n",
    "data.duplicated(subset=['Poem']).sum()"
   ]
  },
  {
   "cell_type": "markdown",
   "metadata": {},
   "source": [
    "Extracting Poem and Category column in a new dataframe so that we can work with it as these two are essential in classification"
   ]
  },
  {
   "cell_type": "code",
   "execution_count": 6,
   "metadata": {},
   "outputs": [],
   "source": [
    "df = data[['Poem','Category']]"
   ]
  },
  {
   "cell_type": "code",
   "execution_count": 7,
   "metadata": {},
   "outputs": [
    {
     "data": {
      "text/html": [
       "<div>\n",
       "<style scoped>\n",
       "    .dataframe tbody tr th:only-of-type {\n",
       "        vertical-align: middle;\n",
       "    }\n",
       "\n",
       "    .dataframe tbody tr th {\n",
       "        vertical-align: top;\n",
       "    }\n",
       "\n",
       "    .dataframe thead th {\n",
       "        text-align: right;\n",
       "    }\n",
       "</style>\n",
       "<table border=\"1\" class=\"dataframe\">\n",
       "  <thead>\n",
       "    <tr style=\"text-align: right;\">\n",
       "      <th></th>\n",
       "      <th>Poem</th>\n",
       "      <th>Category</th>\n",
       "    </tr>\n",
       "  </thead>\n",
       "  <tbody>\n",
       "    <tr>\n",
       "      <th>0</th>\n",
       "      <td>\\r\\r\\nThe Ant thinks about her nieces and neph...</td>\n",
       "      <td>Nature</td>\n",
       "    </tr>\n",
       "    <tr>\n",
       "      <th>1</th>\n",
       "      <td>Unveiled in the light of the rising dawn itsel...</td>\n",
       "      <td>Nature</td>\n",
       "    </tr>\n",
       "    <tr>\n",
       "      <th>2</th>\n",
       "      <td>\\r\\r\\r\\n\\twithin the woods I wandered\\r\\r\\r\\n\\...</td>\n",
       "      <td>Nature</td>\n",
       "    </tr>\n",
       "    <tr>\n",
       "      <th>3</th>\n",
       "      <td>\\r\\r\\nWe shall sail through the air a thousand...</td>\n",
       "      <td>Nature</td>\n",
       "    </tr>\n",
       "    <tr>\n",
       "      <th>4</th>\n",
       "      <td>\\r\\r\\n→ Show additional poem info\\r\\r\\r\\n\\tWe ...</td>\n",
       "      <td>Nature</td>\n",
       "    </tr>\n",
       "  </tbody>\n",
       "</table>\n",
       "</div>"
      ],
      "text/plain": [
       "                                                Poem Category\n",
       "0  \\r\\r\\nThe Ant thinks about her nieces and neph...   Nature\n",
       "1  Unveiled in the light of the rising dawn itsel...   Nature\n",
       "2  \\r\\r\\r\\n\\twithin the woods I wandered\\r\\r\\r\\n\\...   Nature\n",
       "3  \\r\\r\\nWe shall sail through the air a thousand...   Nature\n",
       "4  \\r\\r\\n→ Show additional poem info\\r\\r\\r\\n\\tWe ...   Nature"
      ]
     },
     "execution_count": 7,
     "metadata": {},
     "output_type": "execute_result"
    }
   ],
   "source": [
    "df.head()"
   ]
  },
  {
   "cell_type": "code",
   "execution_count": 8,
   "metadata": {},
   "outputs": [
    {
     "data": {
      "text/html": [
       "<div>\n",
       "<style scoped>\n",
       "    .dataframe tbody tr th:only-of-type {\n",
       "        vertical-align: middle;\n",
       "    }\n",
       "\n",
       "    .dataframe tbody tr th {\n",
       "        vertical-align: top;\n",
       "    }\n",
       "\n",
       "    .dataframe thead th {\n",
       "        text-align: right;\n",
       "    }\n",
       "</style>\n",
       "<table border=\"1\" class=\"dataframe\">\n",
       "  <thead>\n",
       "    <tr style=\"text-align: right;\">\n",
       "      <th></th>\n",
       "      <th>Poem</th>\n",
       "      <th>Category</th>\n",
       "    </tr>\n",
       "  </thead>\n",
       "  <tbody>\n",
       "    <tr>\n",
       "      <th>count</th>\n",
       "      <td>558</td>\n",
       "      <td>559</td>\n",
       "    </tr>\n",
       "    <tr>\n",
       "      <th>unique</th>\n",
       "      <td>558</td>\n",
       "      <td>4</td>\n",
       "    </tr>\n",
       "    <tr>\n",
       "      <th>top</th>\n",
       "      <td>\\r\\r\\nDon’t buy from Messrs Wood &amp; co\\r\\r\\nThe...</td>\n",
       "      <td>Nature</td>\n",
       "    </tr>\n",
       "    <tr>\n",
       "      <th>freq</th>\n",
       "      <td>1</td>\n",
       "      <td>174</td>\n",
       "    </tr>\n",
       "  </tbody>\n",
       "</table>\n",
       "</div>"
      ],
      "text/plain": [
       "                                                     Poem Category\n",
       "count                                                 558      559\n",
       "unique                                                558        4\n",
       "top     \\r\\r\\nDon’t buy from Messrs Wood & co\\r\\r\\nThe...   Nature\n",
       "freq                                                    1      174"
      ]
     },
     "execution_count": 8,
     "metadata": {},
     "output_type": "execute_result"
    }
   ],
   "source": [
    "df.describe()"
   ]
  },
  {
   "cell_type": "code",
   "execution_count": 9,
   "metadata": {},
   "outputs": [
    {
     "name": "stdout",
     "output_type": "stream",
     "text": [
      "<class 'pandas.core.frame.DataFrame'>\n",
      "RangeIndex: 559 entries, 0 to 558\n",
      "Data columns (total 2 columns):\n",
      "Poem        558 non-null object\n",
      "Category    559 non-null object\n",
      "dtypes: object(2)\n",
      "memory usage: 8.8+ KB\n"
     ]
    }
   ],
   "source": [
    "#checking the dataframe\n",
    "df.info()"
   ]
  },
  {
   "cell_type": "code",
   "execution_count": 10,
   "metadata": {},
   "outputs": [
    {
     "data": {
      "text/plain": [
       "'\\r\\r\\r\\n\\tThis year the Murray came down in flood\\r\\r\\r\\n\\tFor years we\\'ve waited for this good.\\r\\r\\r\\n\\tThe river red gums stand and wait\\r\\r\\r\\n\\tfor the waters to reach our state.\\r\\r\\r\\n\\tVictoria gets theirs and will divert\\r\\r\\r\\n\\twater to wetlands far up stream.\\r\\r\\r\\n\\tThese patient trees wait looking inert,\\r\\r\\r\\n\\twaiting for the water of their dreams.\\r\\r\\r\\n\\tSo many of them were chopped down\\r\\r\\r\\n\\tin the paddle steamer days felled\\r\\r\\r\\n\\tto transport goods to rail heads,\\r\\r\\r\\n\\tthe river water is muddy brown.\\r\\r\\r\\n\\tCockles in far off days were shelled\\r\\r\\r\\n\\tas the aborigines foraged in reed beds.\\r\\r\\r\\n\\tThe old gum trees remember those days\\r\\r\\r\\n\\tas native and feral animals graze\\r\\r\\r\\n\\tWater for pasture and orange groves\\r\\r\\r\\n\\tsome of their wood harvested for the stoves.\\r\\r\\r\\n\\tIn the hollow of the old gum tree\\r\\r\\r\\n\\tsqwarks baby galahs waiting for tea.\\r\\r\\r\\n\\tThe parents nest in a deep hollow\\r\\r\\r\\n\\tthat sometimes a possum will want to borrow.\\r\\r\\r\\n\\tUnder the bark spiders hide their larder\\r\\r\\r\\n\\tMaking the birds eating them work much harder.\\r\\r\\r\\n\\tThese old gum trees are home for many\\r\\r\\r\\n\\tIt would be sad if there weren\\'t any.\\r\\r\\r\\n\\tAudrey Christophersen\\r\\r\\r\\n\\tThis year the Murray came down in flood\\r\\r\\n\\r\\r\\r\\n\\tFor years we\\'ve waited for this good.\\r\\r\\n\\r\\r\\r\\n\\tThe river red gums stand and wait\\r\\r\\n\\r\\r\\r\\n\\tfor the waters to reach our state.\\r\\r\\n\\r\\r\\r\\n\\tVictoria gets theirs and will divert\\r\\r\\n\\r\\r\\r\\n\\twater to wetlands far up stream.\\r\\r\\n\\r\\r\\r\\n\\tThese patient trees wait looking inert,\\r\\r\\n\\r\\r\\r\\n\\twaiting for the water of their dreams.\\r\\r\\n\\r\\r\\r\\n\\tSo many of them were chopped down\\r\\r\\n\\r\\r\\r\\n\\tin the paddle steamer days felled\\r\\r\\n\\r\\r\\r\\n\\tto transport goods to rail heads,\\r\\r\\n\\r\\r\\r\\n\\tthe river water is muddy brown.\\r\\r\\n\\r\\r\\r\\n\\tCockles in far off days were shelled\\r\\r\\n\\r\\r\\r\\n\\tas the aborigines foraged in reed beds.\\r\\r\\n\\r\\r\\r\\n\\t\\xa0\\r\\r\\n\\r\\r\\r\\n\\tThe old gum trees remember those days\\r\\r\\n\\r\\r\\r\\n\\tas native and feral animals graze\\r\\r\\n\\r\\r\\r\\n\\tWater for pasture and orange groves\\r\\r\\n\\r\\r\\r\\n\\tsome of their wood harvested for the stoves.\\r\\r\\n\\r\\r\\r\\n\\tIn the hollow of the old gum tree\\r\\r\\n\\r\\r\\r\\n\\tsqwarks baby galahs waiting for tea.\\r\\r\\n\\r\\r\\r\\n\\tThe parents nest in a deep hollow\\r\\r\\n\\r\\r\\r\\n\\tthat sometimes a possum will want to borrow.\\r\\r\\n\\r\\r\\r\\n\\tUnder the bark spiders hide their larder\\r\\r\\n\\r\\r\\r\\n\\tMaking the birds eating them work much harder.\\r\\r\\n\\r\\r\\r\\n\\tThese old gum trees are home for many\\r\\r\\n\\r\\r\\r\\n\\tIt would be sad if there weren\\'t any.\\r\\r\\n\\r\\r\\r\\n\\t\\xa0\\r\\r\\n\\r\\r\\r\\n\\tAudrey Christophersen \\r\\r\\n\\tForest or Trees \"For Groups Speak To Me and Starting from Scratch\" by CherryOnTop  ©  on Jul 28 2011 12:13 AM, Audrey Christophersen \\xa0\\xa0contest  • nature  • sad     '"
      ]
     },
     "execution_count": 10,
     "metadata": {},
     "output_type": "execute_result"
    }
   ],
   "source": [
    "#checking a single random poem to get the idea of what things we need to remove\n",
    "df[\"Poem\"][134]"
   ]
  },
  {
   "cell_type": "markdown",
   "metadata": {},
   "source": [
    ">As we can see here that there are several newline character and other things such as date, genre names, Copyright symbols etc.\n",
    "We need to remove these unwanted characters because they are not useful in classification.\n",
    "Now we are going to preprocess this data"
   ]
  },
  {
   "cell_type": "markdown",
   "metadata": {},
   "source": [
    "# PreProcessing data"
   ]
  },
  {
   "cell_type": "code",
   "execution_count": 11,
   "metadata": {},
   "outputs": [
    {
     "name": "stderr",
     "output_type": "stream",
     "text": [
      "C:\\Users\\Aditya\\AppData\\Local\\conda\\conda\\envs\\nlp_course\\lib\\site-packages\\ipykernel_launcher.py:15: SettingWithCopyWarning: \n",
      "A value is trying to be set on a copy of a slice from a DataFrame.\n",
      "Try using .loc[row_indexer,col_indexer] = value instead\n",
      "\n",
      "See the caveats in the documentation: http://pandas.pydata.org/pandas-docs/stable/indexing.html#indexing-view-versus-copy\n",
      "  from ipykernel import kernelapp as app\n",
      "C:\\Users\\Aditya\\AppData\\Local\\conda\\conda\\envs\\nlp_course\\lib\\site-packages\\pandas\\core\\generic.py:4405: SettingWithCopyWarning: \n",
      "A value is trying to be set on a copy of a slice from a DataFrame.\n",
      "Try using .loc[row_indexer,col_indexer] = value instead\n",
      "\n",
      "See the caveats in the documentation: http://pandas.pydata.org/pandas-docs/stable/indexing.html#indexing-view-versus-copy\n",
      "  self[name] = value\n"
     ]
    }
   ],
   "source": [
    "#removing all unwanted characters\n",
    "chars_to_replace = ['\\r\\n', '\\xa0','(\\xA9|&copy;)\\s+\\w{2}\\s+\\w{3}\\s+\\d{2}\\s+\\d{4}\\s+\\d{2}:\\d{2}\\s+\\w[am|pm|AM|PM]','\\r\\n\\r\\r\\n\\t','\\t']\n",
    "df['Poem'] = df.Poem.replace(['\\r\\n', \n",
    "                              '\\xa0',\n",
    "                              '(\\xA9|&copy;)\\s+\\w{2}\\s+\\w{3}\\s+\\d{2}\\s+\\d{4}\\s+\\d{2}:\\d{2}\\s+\\w[am|pm|AM|PM]',\n",
    "                              '\\r\\n\\r\\r\\n\\t',\n",
    "                              '\\t',\n",
    "                              '(\\r)+',\n",
    "                              '(\\s){2,}',\n",
    "                              '.((\\w)+•\\s)+(\\w)+',\n",
    "                              '((\\s+)?\\w+\\s+(\\•)?\\s+\\w+)+',\n",
    "                              '(•)+',\n",
    "                              '(\\w)+•\\s+\\W*\\w*',\n",
    "                              '\\d+',\n",
    "                              '^(http:\\/\\/www\\.|https:\\/\\/www\\.|http:\\/\\/|https:\\/\\/)?[a-z0-9]+([\\-\\.]{1}[a-z0-9]+)*\\.[a-z]{2,5}(:[0-9]{1,5})?(\\/.*)?$'], ' ', regex=True)\n",
    "\n",
    "#Removing Punctuations\n",
    "df.Poem = df['Poem'].str.replace('[{}]'.format(string.punctuation), '')\n",
    "\n",
    "#converting to lower case\n",
    "df = df.apply(lambda x: x.astype(str).str.lower())\n",
    "\n",
    "#removing stop words\n",
    "stop_words = set(stopwords.words('english'))\n",
    "df['Poem'] = df['Poem'].apply(lambda x: ' '.join([word for word in x.split() if word not in (stop_words)]))"
   ]
  },
  {
   "cell_type": "code",
   "execution_count": 12,
   "metadata": {},
   "outputs": [
    {
     "data": {
      "text/plain": [
       "'year murray came flood years weve waited good river red gums stand wait waters reach state victoria gets divert water wetlands far stream patient trees wait looking inert waiting water dreams many chopped paddle steamer days felled transport goods rail heads river water muddy brown cockles far days shelled aborigines foraged reed beds old gum trees remember days native feral animals graze water pasture orange groves wood harvested stoves hollow old gum tree sqwarks baby galahs waiting tea parents nest deep hollow sometimes possum want borrow bark spiders hide larder making birds eating work much harder old gum trees home many would sad werent audrey christophersen year murray came flood years weve waited good river red gums stand wait waters reach state victoria gets divert water wetlands far stream patient trees wait looking inert waiting water dreams many chopped paddle steamer days felled transport goods rail heads river water muddy brown cockles far days shelled aborigines foraged reed beds old gum trees remember days native feral animals graze water pasture orange groves wood harvested stoves hollow old gum tree sqwarks baby galahs waiting tea parents nest deep hollow sometimes possum want borrow bark spiders hide larder making birds eating work much harder old gum trees home many would sad werent audrey christophersen forest trees groups speak starting scratch cherryontop audrey christophersen sad'"
      ]
     },
     "execution_count": 12,
     "metadata": {},
     "output_type": "execute_result"
    }
   ],
   "source": [
    "#checking a single random poem after preprocessing\n",
    "df[\"Poem\"][134]"
   ]
  },
  {
   "cell_type": "markdown",
   "metadata": {},
   "source": [
    "> Now we have preprocessed our data, we can move to the most important part of classification\n",
    "Here I'm just performing a simple classification and that's why we can expect a very low accuracy.\n",
    "For improving this accuracy we can use several Advance NLP techniques. "
   ]
  },
  {
   "cell_type": "code",
   "execution_count": 13,
   "metadata": {},
   "outputs": [],
   "source": [
    "#Importing Required Libraries\n",
    "from sklearn.model_selection import train_test_split\n",
    "from sklearn.feature_extraction.text import TfidfVectorizer\n",
    "from sklearn.naive_bayes import MultinomialNB\n",
    "from sklearn.pipeline import Pipeline\n",
    "from sklearn.metrics import accuracy_score, classification_report\n",
    "from sklearn import metrics\n",
    "from sklearn.model_selection import StratifiedShuffleSplit"
   ]
  },
  {
   "cell_type": "code",
   "execution_count": 18,
   "metadata": {},
   "outputs": [],
   "source": [
    "train_X, test_X, train_y, test_y = train_test_split(df['Poem'], df['Category'], test_size = 0.3)"
   ]
  },
  {
   "cell_type": "code",
   "execution_count": 19,
   "metadata": {},
   "outputs": [
    {
     "name": "stdout",
     "output_type": "stream",
     "text": [
      "Shape of training data(Poems) : (391,)\n",
      "Shape of training data(Category) : (391,)\n",
      "Shape of testing data(Poems) : (168,)\n",
      "Shape of training data(Category) : (168,)\n"
     ]
    }
   ],
   "source": [
    "#checking the shape of our training and testing data\n",
    "print('Shape of training data(Poems) : ' + str(train_X.shape))\n",
    "print('Shape of training data(Category) : ' + str(train_y.shape))\n",
    "print('Shape of testing data(Poems) : ' + str(test_X.shape))\n",
    "print('Shape of training data(Category) : ' + str(test_y.shape))"
   ]
  },
  {
   "cell_type": "markdown",
   "metadata": {},
   "source": [
    "# Multinomial Naive Bayes"
   ]
  },
  {
   "cell_type": "code",
   "execution_count": 20,
   "metadata": {},
   "outputs": [],
   "source": [
    "#creating a pipeline so that all the steps can be combined\n",
    "clf = Pipeline([ \n",
    "                    ('vect',TfidfVectorizer()),\n",
    "                    ('clf', MultinomialNB()) \n",
    "                      ])"
   ]
  },
  {
   "cell_type": "code",
   "execution_count": 21,
   "metadata": {},
   "outputs": [
    {
     "data": {
      "text/plain": [
       "Pipeline(memory=None,\n",
       "     steps=[('vect', TfidfVectorizer(analyzer='word', binary=False, decode_error='strict',\n",
       "        dtype=<class 'numpy.float64'>, encoding='utf-8', input='content',\n",
       "        lowercase=True, max_df=1.0, max_features=None, min_df=1,\n",
       "        ngram_range=(1, 1), norm='l2', preprocessor=None, smooth_idf=True,\n",
       "...rue,\n",
       "        vocabulary=None)), ('clf', MultinomialNB(alpha=1.0, class_prior=None, fit_prior=True))])"
      ]
     },
     "execution_count": 21,
     "metadata": {},
     "output_type": "execute_result"
    }
   ],
   "source": [
    "clf.fit(train_X, train_y)"
   ]
  },
  {
   "cell_type": "code",
   "execution_count": 22,
   "metadata": {},
   "outputs": [],
   "source": [
    "predicted = clf.predict(test_X)"
   ]
  },
  {
   "cell_type": "code",
   "execution_count": 23,
   "metadata": {},
   "outputs": [
    {
     "data": {
      "text/plain": [
       "array(['nature', 'nature', 'humor', 'nature', 'nature', 'humor', 'humor',\n",
       "       'nature', 'nature', 'nature', 'nature', 'humor', 'humor', 'nature',\n",
       "       'nature', 'nature', 'nature', 'nature', 'humor', 'nature',\n",
       "       'nature', 'nature', 'nature', 'nature', 'nature', 'nature',\n",
       "       'nature', 'nature', 'humor', 'nature', 'nature', 'nature', 'humor',\n",
       "       'nature', 'humor', 'nature', 'nature', 'humor', 'humor', 'nature',\n",
       "       'nature', 'nature', 'nature', 'nature', 'nature', 'nature',\n",
       "       'nature', 'nature', 'nature', 'nature', 'nature', 'nature',\n",
       "       'nature', 'nature', 'nature', 'humor', 'nature', 'nature',\n",
       "       'nature', 'nature', 'humor', 'nature', 'nature', 'nature', 'humor',\n",
       "       'nature', 'nature', 'nature', 'nature', 'nature', 'nature',\n",
       "       'nature', 'nature', 'nature', 'nature', 'nature', 'nature',\n",
       "       'nature', 'nature', 'humor', 'humor', 'nature', 'nature', 'humor',\n",
       "       'nature', 'nature', 'humor', 'nature', 'humor', 'nature', 'nature',\n",
       "       'nature', 'nature', 'humor', 'humor', 'nature', 'nature', 'nature',\n",
       "       'nature', 'humor', 'nature', 'nature', 'nature', 'nature',\n",
       "       'nature', 'nature', 'humor', 'nature', 'nature', 'nature',\n",
       "       'nature', 'nature', 'nature', 'nature', 'nature', 'nature',\n",
       "       'nature', 'nature', 'nature', 'humor', 'nature', 'nature',\n",
       "       'nature', 'nature', 'nature', 'nature', 'nature', 'nature',\n",
       "       'nature', 'nature', 'humor', 'nature', 'nature', 'nature',\n",
       "       'nature', 'nature', 'nature', 'humor', 'humor', 'nature', 'nature',\n",
       "       'nature', 'nature', 'nature', 'nature', 'nature', 'nature',\n",
       "       'nature', 'nature', 'humor', 'nature', 'nature', 'humor', 'nature',\n",
       "       'nature', 'nature', 'nature', 'nature', 'nature', 'humor',\n",
       "       'nature', 'humor', 'nature', 'nature', 'nature', 'nature',\n",
       "       'nature', 'nature'], dtype='<U9')"
      ]
     },
     "execution_count": 23,
     "metadata": {},
     "output_type": "execute_result"
    }
   ],
   "source": [
    "predicted"
   ]
  },
  {
   "cell_type": "code",
   "execution_count": 24,
   "metadata": {},
   "outputs": [
    {
     "name": "stdout",
     "output_type": "stream",
     "text": [
      "Accuracy  is 0.4583333333333333\n",
      "              precision    recall  f1-score   support\n",
      "\n",
      "       humor       0.77      0.56      0.65        43\n",
      "        love       0.00      0.00      0.00        40\n",
      "      nature       0.39      1.00      0.56        53\n",
      "   spiritual       0.00      0.00      0.00        32\n",
      "\n",
      "   micro avg       0.46      0.46      0.46       168\n",
      "   macro avg       0.29      0.39      0.30       168\n",
      "weighted avg       0.32      0.46      0.34       168\n",
      "\n"
     ]
    },
    {
     "name": "stderr",
     "output_type": "stream",
     "text": [
      "C:\\Users\\Aditya\\AppData\\Local\\conda\\conda\\envs\\nlp_course\\lib\\site-packages\\sklearn\\metrics\\classification.py:1143: UndefinedMetricWarning: Precision and F-score are ill-defined and being set to 0.0 in labels with no predicted samples.\n",
      "  'precision', 'predicted', average, warn_for)\n"
     ]
    }
   ],
   "source": [
    "print('Accuracy  is '+ str(np.mean(predicted == test_y)))\n",
    "print(classification_report(test_y, predicted))"
   ]
  },
  {
   "cell_type": "markdown",
   "metadata": {},
   "source": [
    "# Using Support Vector Machine"
   ]
  },
  {
   "cell_type": "code",
   "execution_count": 25,
   "metadata": {},
   "outputs": [
    {
     "name": "stderr",
     "output_type": "stream",
     "text": [
      "C:\\Users\\Aditya\\AppData\\Local\\conda\\conda\\envs\\nlp_course\\lib\\site-packages\\sklearn\\linear_model\\stochastic_gradient.py:183: FutureWarning: max_iter and tol parameters have been added in SGDClassifier in 0.19. If max_iter is set but tol is left unset, the default value for tol in 0.19 and 0.20 will be None (which is equivalent to -infinity, so it has no effect) but will change in 0.21 to 1e-3. Specify tol to silence this warning.\n",
      "  FutureWarning)\n"
     ]
    },
    {
     "data": {
      "text/plain": [
       "Pipeline(memory=None,\n",
       "     steps=[('tfidf', TfidfVectorizer(analyzer='word', binary=False, decode_error='strict',\n",
       "        dtype=<class 'numpy.float64'>, encoding='utf-8', input='content',\n",
       "        lowercase=True, max_df=1.0, max_features=None, min_df=1,\n",
       "        ngram_range=(1, 1), norm='l2', preprocessor=None, smooth_idf=True,...dom_state=42, shuffle=True, tol=None,\n",
       "       validation_fraction=0.1, verbose=0, warm_start=False))])"
      ]
     },
     "execution_count": 25,
     "metadata": {},
     "output_type": "execute_result"
    }
   ],
   "source": [
    "from sklearn.linear_model import SGDClassifier\n",
    "\n",
    "sgd = Pipeline([('tfidf', TfidfVectorizer()),\n",
    "                ('clf', SGDClassifier(loss='hinge', penalty='l2',alpha=1e-3, random_state=42, max_iter=5, tol=None)),\n",
    "               ])\n",
    "sgd.fit(train_X, train_y)"
   ]
  },
  {
   "cell_type": "code",
   "execution_count": 26,
   "metadata": {},
   "outputs": [
    {
     "name": "stdout",
     "output_type": "stream",
     "text": [
      "accuracy 0.5416666666666666\n",
      "              precision    recall  f1-score   support\n",
      "\n",
      "       humor       0.59      0.67      0.63        43\n",
      "        love       0.50      0.30      0.37        40\n",
      "      nature       0.51      0.79      0.62        53\n",
      "   spiritual       0.62      0.25      0.36        32\n",
      "\n",
      "   micro avg       0.54      0.54      0.54       168\n",
      "   macro avg       0.55      0.50      0.50       168\n",
      "weighted avg       0.55      0.54      0.51       168\n",
      "\n"
     ]
    }
   ],
   "source": [
    "y_pred = sgd.predict(test_X)\n",
    "print('accuracy %s' % accuracy_score(y_pred, test_y))\n",
    "print(classification_report(test_y, y_pred))"
   ]
  }
 ],
 "metadata": {
  "kernelspec": {
   "display_name": "Python 3",
   "language": "python",
   "name": "python3"
  },
  "language_info": {
   "codemirror_mode": {
    "name": "ipython",
    "version": 3
   },
   "file_extension": ".py",
   "mimetype": "text/x-python",
   "name": "python",
   "nbconvert_exporter": "python",
   "pygments_lexer": "ipython3",
   "version": "3.6.8"
  }
 },
 "nbformat": 4,
 "nbformat_minor": 2
}
