{
 "cells": [
  {
   "cell_type": "code",
   "execution_count": 1,
   "metadata": {},
   "outputs": [],
   "source": [
    "import pandas as pd"
   ]
  },
  {
   "cell_type": "code",
   "execution_count": 20,
   "metadata": {},
   "outputs": [],
   "source": [
    "data = pd.read_csv('MyDataset.csv', header=None)"
   ]
  },
  {
   "cell_type": "code",
   "execution_count": 21,
   "metadata": {},
   "outputs": [],
   "source": [
    "data.columns = ['Author','Title','Poem','Category']"
   ]
  },
  {
   "cell_type": "code",
   "execution_count": 22,
   "metadata": {},
   "outputs": [
    {
     "name": "stdout",
     "output_type": "stream",
     "text": [
      "Original Shape of data : (80802, 4)\n"
     ]
    }
   ],
   "source": [
    "#checking the original shape of data\n",
    "print(\"Original Shape of data : \" + str(data.shape))"
   ]
  },
  {
   "cell_type": "code",
   "execution_count": 23,
   "metadata": {},
   "outputs": [
    {
     "data": {
      "text/plain": [
       "80243"
      ]
     },
     "execution_count": 23,
     "metadata": {},
     "output_type": "execute_result"
    }
   ],
   "source": [
    "#checking the number of duplicated poems\n",
    "data.duplicated(subset=['Poem']).sum()"
   ]
  },
  {
   "cell_type": "code",
   "execution_count": 24,
   "metadata": {},
   "outputs": [],
   "source": [
    "data = data.drop_duplicates(subset=['Poem'])"
   ]
  },
  {
   "cell_type": "code",
   "execution_count": 25,
   "metadata": {},
   "outputs": [
    {
     "name": "stdout",
     "output_type": "stream",
     "text": [
      "Shape of data after removing duplicates : (559, 4)\n"
     ]
    }
   ],
   "source": [
    "#checking the shape of data after removing every duplicate on the basis of poems\n",
    "print(\"Shape of data after removing duplicates : \" + str(data.shape))"
   ]
  },
  {
   "cell_type": "markdown",
   "metadata": {},
   "source": [
    "Now we have less data but this data is unique, every poem is unique"
   ]
  },
  {
   "cell_type": "code",
   "execution_count": 26,
   "metadata": {},
   "outputs": [
    {
     "data": {
      "text/html": [
       "<div>\n",
       "<style scoped>\n",
       "    .dataframe tbody tr th:only-of-type {\n",
       "        vertical-align: middle;\n",
       "    }\n",
       "\n",
       "    .dataframe tbody tr th {\n",
       "        vertical-align: top;\n",
       "    }\n",
       "\n",
       "    .dataframe thead th {\n",
       "        text-align: right;\n",
       "    }\n",
       "</style>\n",
       "<table border=\"1\" class=\"dataframe\">\n",
       "  <thead>\n",
       "    <tr style=\"text-align: right;\">\n",
       "      <th></th>\n",
       "      <th>Author</th>\n",
       "      <th>Title</th>\n",
       "      <th>Poem</th>\n",
       "      <th>Category</th>\n",
       "    </tr>\n",
       "  </thead>\n",
       "  <tbody>\n",
       "    <tr>\n",
       "      <th>0</th>\n",
       "      <td>Fred Payton</td>\n",
       "      <td>A Day in the Buglife</td>\n",
       "      <td>\\r\\nThe Ant thinks about her nieces and nephew...</td>\n",
       "      <td>Nature</td>\n",
       "    </tr>\n",
       "    <tr>\n",
       "      <th>2</th>\n",
       "      <td>spt</td>\n",
       "      <td>Spring - A Poem for the Seasons</td>\n",
       "      <td>Unveiled in the light of the rising dawn itsel...</td>\n",
       "      <td>Nature</td>\n",
       "    </tr>\n",
       "    <tr>\n",
       "      <th>5</th>\n",
       "      <td>Linda Marshall</td>\n",
       "      <td>The wanderer in the woods</td>\n",
       "      <td>\\r\\r\\n\\twithin the woods I wandered\\r\\r\\n\\tin ...</td>\n",
       "      <td>Nature</td>\n",
       "    </tr>\n",
       "    <tr>\n",
       "      <th>9</th>\n",
       "      <td>Dlmchale</td>\n",
       "      <td>Awakening Our Memories</td>\n",
       "      <td>\\r\\nWe shall sail through the air a thousand c...</td>\n",
       "      <td>Nature</td>\n",
       "    </tr>\n",
       "    <tr>\n",
       "      <th>14</th>\n",
       "      <td>Front Porch Muse</td>\n",
       "      <td>Prospector / Archived repost</td>\n",
       "      <td>\\r\\n→ Show additional poem info\\r\\r\\n\\tWe move...</td>\n",
       "      <td>Nature</td>\n",
       "    </tr>\n",
       "  </tbody>\n",
       "</table>\n",
       "</div>"
      ],
      "text/plain": [
       "              Author                            Title  \\\n",
       "0        Fred Payton             A Day in the Buglife   \n",
       "2                spt  Spring - A Poem for the Seasons   \n",
       "5     Linda Marshall        The wanderer in the woods   \n",
       "9           Dlmchale           Awakening Our Memories   \n",
       "14  Front Porch Muse     Prospector / Archived repost   \n",
       "\n",
       "                                                 Poem Category  \n",
       "0   \\r\\nThe Ant thinks about her nieces and nephew...   Nature  \n",
       "2   Unveiled in the light of the rising dawn itsel...   Nature  \n",
       "5   \\r\\r\\n\\twithin the woods I wandered\\r\\r\\n\\tin ...   Nature  \n",
       "9   \\r\\nWe shall sail through the air a thousand c...   Nature  \n",
       "14  \\r\\n→ Show additional poem info\\r\\r\\n\\tWe move...   Nature  "
      ]
     },
     "execution_count": 26,
     "metadata": {},
     "output_type": "execute_result"
    }
   ],
   "source": [
    "data.head()"
   ]
  },
  {
   "cell_type": "code",
   "execution_count": 27,
   "metadata": {},
   "outputs": [],
   "source": [
    "data.reset_index(inplace=True, drop=True)"
   ]
  },
  {
   "cell_type": "code",
   "execution_count": 28,
   "metadata": {},
   "outputs": [
    {
     "data": {
      "text/html": [
       "<div>\n",
       "<style scoped>\n",
       "    .dataframe tbody tr th:only-of-type {\n",
       "        vertical-align: middle;\n",
       "    }\n",
       "\n",
       "    .dataframe tbody tr th {\n",
       "        vertical-align: top;\n",
       "    }\n",
       "\n",
       "    .dataframe thead th {\n",
       "        text-align: right;\n",
       "    }\n",
       "</style>\n",
       "<table border=\"1\" class=\"dataframe\">\n",
       "  <thead>\n",
       "    <tr style=\"text-align: right;\">\n",
       "      <th></th>\n",
       "      <th>Author</th>\n",
       "      <th>Title</th>\n",
       "      <th>Poem</th>\n",
       "      <th>Category</th>\n",
       "    </tr>\n",
       "  </thead>\n",
       "  <tbody>\n",
       "    <tr>\n",
       "      <th>0</th>\n",
       "      <td>Fred Payton</td>\n",
       "      <td>A Day in the Buglife</td>\n",
       "      <td>\\r\\nThe Ant thinks about her nieces and nephew...</td>\n",
       "      <td>Nature</td>\n",
       "    </tr>\n",
       "    <tr>\n",
       "      <th>1</th>\n",
       "      <td>spt</td>\n",
       "      <td>Spring - A Poem for the Seasons</td>\n",
       "      <td>Unveiled in the light of the rising dawn itsel...</td>\n",
       "      <td>Nature</td>\n",
       "    </tr>\n",
       "    <tr>\n",
       "      <th>2</th>\n",
       "      <td>Linda Marshall</td>\n",
       "      <td>The wanderer in the woods</td>\n",
       "      <td>\\r\\r\\n\\twithin the woods I wandered\\r\\r\\n\\tin ...</td>\n",
       "      <td>Nature</td>\n",
       "    </tr>\n",
       "    <tr>\n",
       "      <th>3</th>\n",
       "      <td>Dlmchale</td>\n",
       "      <td>Awakening Our Memories</td>\n",
       "      <td>\\r\\nWe shall sail through the air a thousand c...</td>\n",
       "      <td>Nature</td>\n",
       "    </tr>\n",
       "    <tr>\n",
       "      <th>4</th>\n",
       "      <td>Front Porch Muse</td>\n",
       "      <td>Prospector / Archived repost</td>\n",
       "      <td>\\r\\n→ Show additional poem info\\r\\r\\n\\tWe move...</td>\n",
       "      <td>Nature</td>\n",
       "    </tr>\n",
       "  </tbody>\n",
       "</table>\n",
       "</div>"
      ],
      "text/plain": [
       "             Author                            Title  \\\n",
       "0       Fred Payton             A Day in the Buglife   \n",
       "1               spt  Spring - A Poem for the Seasons   \n",
       "2    Linda Marshall        The wanderer in the woods   \n",
       "3          Dlmchale           Awakening Our Memories   \n",
       "4  Front Porch Muse     Prospector / Archived repost   \n",
       "\n",
       "                                                Poem Category  \n",
       "0  \\r\\nThe Ant thinks about her nieces and nephew...   Nature  \n",
       "1  Unveiled in the light of the rising dawn itsel...   Nature  \n",
       "2  \\r\\r\\n\\twithin the woods I wandered\\r\\r\\n\\tin ...   Nature  \n",
       "3  \\r\\nWe shall sail through the air a thousand c...   Nature  \n",
       "4  \\r\\n→ Show additional poem info\\r\\r\\n\\tWe move...   Nature  "
      ]
     },
     "execution_count": 28,
     "metadata": {},
     "output_type": "execute_result"
    }
   ],
   "source": [
    "data.head()"
   ]
  },
  {
   "cell_type": "markdown",
   "metadata": {},
   "source": [
    "Now saving this file as a dataset for final modelling"
   ]
  },
  {
   "cell_type": "code",
   "execution_count": 30,
   "metadata": {},
   "outputs": [],
   "source": [
    "data.to_csv(\"Final_Dataset.csv\")"
   ]
  }
 ],
 "metadata": {
  "kernelspec": {
   "display_name": "Python 3",
   "language": "python",
   "name": "python3"
  },
  "language_info": {
   "codemirror_mode": {
    "name": "ipython",
    "version": 3
   },
   "file_extension": ".py",
   "mimetype": "text/x-python",
   "name": "python",
   "nbconvert_exporter": "python",
   "pygments_lexer": "ipython3",
   "version": "3.6.8"
  }
 },
 "nbformat": 4,
 "nbformat_minor": 2
}
